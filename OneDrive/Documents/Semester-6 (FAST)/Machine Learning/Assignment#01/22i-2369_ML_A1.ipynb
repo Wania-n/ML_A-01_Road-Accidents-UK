{
 "cells": [
  {
   "cell_type": "markdown",
   "metadata": {},
   "source": [
    "Assignment #01 (Chapter #1 and #2)\n",
    "\n",
    "Submitted by Wania Naeem, 22i-2369 of CS-Z (Robo)\n",
    "\n",
    "For this assignment, I have used a public dataset from Kaggle: Road Accidents in UK (2000 - 2018). It has over 1.8 million features and 33 features with majorly numerical features and some categorical features. The details on this dataset and model will be provided in the report."
   ]
  },
  {
   "cell_type": "code",
   "execution_count": null,
   "metadata": {},
   "outputs": [],
   "source": [
    "# ADD BUTTON OF OPENING IN COLAB AND JUPYTER NOTEBOOK HERE!"
   ]
  },
  {
   "cell_type": "markdown",
   "metadata": {},
   "source": [
    "1. Installing the Kaggle API (Run this if not installed!)"
   ]
  },
  {
   "cell_type": "code",
   "execution_count": null,
   "metadata": {},
   "outputs": [],
   "source": [
    "!pip install kaggle"
   ]
  },
  {
   "cell_type": "markdown",
   "metadata": {},
   "source": [
    "2. Downloading the Dataset from Kaggle"
   ]
  },
  {
   "cell_type": "code",
   "execution_count": 1,
   "metadata": {},
   "outputs": [
    {
     "data": {
      "text/plain": [
       "0"
      ]
     },
     "execution_count": 1,
     "metadata": {},
     "output_type": "execute_result"
    }
   ],
   "source": [
    "import os\n",
    "\n",
    "# This is the dataset name from kaggle\n",
    "dataset_name = \"devansodariya/road-accident-united-kingdom-uk-dataset\"\n",
    "download_path = \"datasets\"\n",
    "\n",
    "# Make the folder and run the downloading command\n",
    "os.makedirs(download_path, exist_ok=True)\n",
    "os.system(f\"kaggle datasets download -d {dataset_name} -p {download_path} --unzip\")\n",
    "\n",
    "# After running this cell, a folder named 'datasets' will be created in the directory as this file.\n",
    "# The dataset will be downloaded in that folder and be named 'UK_Accident.csv' of 449.67 MBs\n",
    "# Testing this file"
   ]
  }
 ],
 "metadata": {
  "kernelspec": {
   "display_name": "Python 3",
   "language": "python",
   "name": "python3"
  },
  "language_info": {
   "codemirror_mode": {
    "name": "ipython",
    "version": 3
   },
   "file_extension": ".py",
   "mimetype": "text/x-python",
   "name": "python",
   "nbconvert_exporter": "python",
   "pygments_lexer": "ipython3",
   "version": "3.12.5"
  }
 },
 "nbformat": 4,
 "nbformat_minor": 2
}
