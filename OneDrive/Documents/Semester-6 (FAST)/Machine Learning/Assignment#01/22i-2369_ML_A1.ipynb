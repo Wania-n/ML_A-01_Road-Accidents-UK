{
 "cells": [
  {
   "cell_type": "markdown",
   "metadata": {},
   "source": [
    "Assignment #01 (Chapter #1 and #2)\n",
    "\n",
    "Submitted by Wania Naeem, 22i-2369 of CS-Z (Robo)\n",
    "\n",
    "For this assignment, I have used a public dataset from Kaggle: Road Accidents in UK (2000 - 2018). It has over 1.8 million features and 33 features with majorly numerical features and some categorical features. The details on this dataset and model will be provided in the report."
   ]
  },
  {
   "cell_type": "code",
   "execution_count": null,
   "metadata": {},
   "outputs": [],
   "source": [
    "# ADD BUTTON OF OPENING IN COLAB AND JUPYTER NOTEBOOK HERE!"
   ]
  },
  {
   "cell_type": "markdown",
   "metadata": {},
   "source": [
    "1. Installing the Kaggle API (Run this if not installed!)"
   ]
  },
  {
   "cell_type": "code",
   "execution_count": null,
   "metadata": {},
   "outputs": [],
   "source": [
    "!pip install kaggle"
   ]
  },
  {
   "cell_type": "markdown",
   "metadata": {},
   "source": [
    "2. Downloading the Dataset from Kaggle"
   ]
  },
  {
   "cell_type": "code",
   "execution_count": null,
   "metadata": {},
   "outputs": [],
   "source": [
    "import os\n",
    "\n",
    "# This is the dataset name from kaggle\n",
    "dataset_name = \"devansodariya/road-accident-united-kingdom-uk-dataset\"\n",
    "download_path = \"datasets\"\n",
    "\n",
    "# Make the folder and run the downloading command\n",
    "os.makedirs(download_path, exist_ok=True)\n",
    "os.system(f\"kaggle datasets download -d {dataset_name} -p {download_path} --unzip\")\n",
    "\n",
    "# After running this cell, a folder named 'datasets' will be created in the directory as this file.\n",
    "# The dataset will be downloaded in that folder and be named 'UK_Accident.csv' of 449.67 MBs"
   ]
  },
  {
   "cell_type": "markdown",
   "metadata": {},
   "source": [
    "3. Extracting the Dataset into the code"
   ]
  },
  {
   "cell_type": "code",
   "execution_count": 1,
   "metadata": {},
   "outputs": [
    {
     "name": "stdout",
     "output_type": "stream",
     "text": [
      "   Unnamed: 0 Accident_Index  Location_Easting_OSGR  Location_Northing_OSGR  \\\n",
      "0           0  200501BS00001               525680.0                178240.0   \n",
      "1           1  200501BS00002               524170.0                181650.0   \n",
      "2           2  200501BS00003               524520.0                182240.0   \n",
      "3           3  200501BS00004               526900.0                177530.0   \n",
      "4           4  200501BS00005               528060.0                179040.0   \n",
      "\n",
      "   Longitude   Latitude  Police_Force  Accident_Severity  Number_of_Vehicles  \\\n",
      "0  -0.191170  51.489096             1                  2                   1   \n",
      "1  -0.211708  51.520075             1                  3                   1   \n",
      "2  -0.206458  51.525301             1                  3                   2   \n",
      "3  -0.173862  51.482442             1                  3                   1   \n",
      "4  -0.156618  51.495752             1                  3                   1   \n",
      "\n",
      "   Number_of_Casualties  ...      Pedestrian_Crossing-Physical_Facilities  \\\n",
      "0                     1  ...                               Zebra crossing   \n",
      "1                     1  ...  Pedestrian phase at traffic signal junction   \n",
      "2                     1  ...        No physical crossing within 50 meters   \n",
      "3                     1  ...        No physical crossing within 50 meters   \n",
      "4                     1  ...        No physical crossing within 50 meters   \n",
      "\n",
      "                          Light_Conditions          Weather_Conditions  \\\n",
      "0           Daylight: Street light present  Raining without high winds   \n",
      "1  Darkness: Street lights present and lit     Fine without high winds   \n",
      "2  Darkness: Street lights present and lit     Fine without high winds   \n",
      "3           Daylight: Street light present     Fine without high winds   \n",
      "4        Darkness: Street lighting unknown     Fine without high winds   \n",
      "\n",
      "   Road_Surface_Conditions Special_Conditions_at_Site  Carriageway_Hazards  \\\n",
      "0                 Wet/Damp                        NaN                  NaN   \n",
      "1                      Dry                        NaN                  NaN   \n",
      "2                      Dry                        NaN                  NaN   \n",
      "3                      Dry                        NaN                  NaN   \n",
      "4                 Wet/Damp                        NaN                  NaN   \n",
      "\n",
      "   Urban_or_Rural_Area Did_Police_Officer_Attend_Scene_of_Accident  \\\n",
      "0                    1                                         Yes   \n",
      "1                    1                                         Yes   \n",
      "2                    1                                         Yes   \n",
      "3                    1                                         Yes   \n",
      "4                    1                                         Yes   \n",
      "\n",
      "   LSOA_of_Accident_Location  Year  \n",
      "0                  E01002849  2005  \n",
      "1                  E01002909  2005  \n",
      "2                  E01002857  2005  \n",
      "3                  E01002840  2005  \n",
      "4                  E01002863  2005  \n",
      "\n",
      "[5 rows x 33 columns]\n"
     ]
    }
   ],
   "source": [
    "import pandas as pd\n",
    "\n",
    "\n",
    "# Reading the dataset using pandas\n",
    "dataset = pd.read_csv(\"datasets/UK_Accident.csv\")\n",
    "\n",
    "# Printing the first 5 rows\n",
    "print(dataset.head())\n"
   ]
  }
 ],
 "metadata": {
  "kernelspec": {
   "display_name": "Python 3",
   "language": "python",
   "name": "python3"
  },
  "language_info": {
   "codemirror_mode": {
    "name": "ipython",
    "version": 3
   },
   "file_extension": ".py",
   "mimetype": "text/x-python",
   "name": "python",
   "nbconvert_exporter": "python",
   "pygments_lexer": "ipython3",
   "version": "3.12.5"
  }
 },
 "nbformat": 4,
 "nbformat_minor": 2
}
